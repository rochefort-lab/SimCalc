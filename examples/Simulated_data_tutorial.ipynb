{
 "cells": [
  {
   "cell_type": "markdown",
   "metadata": {},
   "source": [
    "General imports"
   ]
  },
  {
   "cell_type": "code",
   "execution_count": null,
   "metadata": {},
   "outputs": [],
   "source": [
    "import numpy as np\n",
    "import simcalc"
   ]
  },
  {
   "cell_type": "code",
   "execution_count": null,
   "metadata": {},
   "outputs": [],
   "source": [
    "%load_ext autoreload\n",
    "%autoreload 2"
   ]
  },
  {
   "cell_type": "markdown",
   "metadata": {},
   "source": [
    "Plotting"
   ]
  },
  {
   "cell_type": "code",
   "execution_count": null,
   "metadata": {},
   "outputs": [],
   "source": [
    "import holoviews as hv\n",
    "hv.extension('bokeh', 'matplotlib')\n",
    "%opts Raster (cmap='Greys_r') Image (cmap='Greys_r')"
   ]
  },
  {
   "cell_type": "markdown",
   "metadata": {},
   "source": [
    "Generate basic spikes and calcium traces"
   ]
  },
  {
   "cell_type": "code",
   "execution_count": null,
   "metadata": {},
   "outputs": [],
   "source": [
    "#gcamp6f stats\n",
    "taur = 0.1\n",
    "taud = 0.76\n",
    "A = 1\n",
    "p = [0.85, -0.006]\n",
    "\n",
    "# define other inputs\n",
    "nCells = 5\n",
    "h = 50 # height and width of field of view\n",
    "T = 7.5 # final time\n",
    "dt= 0.01 # timestep\n",
    "cycles = 2 # how many stimulus cycles\n",
    "rates = np.linspace(0,1,nCells)\n",
    "rates[0] = 0.2\n",
    "rates[np.arange(1,nCells,3)] = 0.5\n",
    "rates[np.arange(2,nCells,3)] = 0.5\n",
    "\n",
    "# run model\n",
    "model = simcalc.SimCalc(h, nCells, T, cycles, dt)\n",
    "model.gen_calcium(taur,taud,A,p, rates=rates)"
   ]
  },
  {
   "cell_type": "code",
   "execution_count": null,
   "metadata": {},
   "outputs": [],
   "source": [
    "%%opts Curve [width=900] Curve.spikes (color='k') Curve.F (color='g')\n",
    "sp = model.sp # spikes\n",
    "c = model.c # inherent calcium level without nonlinearities\n",
    "F = model.F # calcium levels with measurement nonlinearities taken into account\n",
    "times = np.arange(F.shape[1])*dt # time points\n",
    "\n",
    "# plot spikes and calcium traces\n",
    "calc_fig = hv.Overlay()\n",
    "offset=6\n",
    "for t in range(sp.shape[0]): # loop over trials\n",
    "    calc_fig *= hv.Curve(zip(times, sp[t, :]*3+offset*t), group='spikes', label='spikes')\n",
    "    calc_fig *= hv.Curve(zip(times, F[t, :]+offset*t), group='F', label='calcium measurement')\n",
    "calc_fig"
   ]
  },
  {
   "cell_type": "markdown",
   "metadata": {},
   "source": [
    "Generate neuropil signal and spatial footprint"
   ]
  },
  {
   "cell_type": "code",
   "execution_count": null,
   "metadata": {},
   "outputs": [],
   "source": [
    "model.gen_npil()"
   ]
  },
  {
   "cell_type": "markdown",
   "metadata": {},
   "source": [
    "Generate spatial kernels for the cells"
   ]
  },
  {
   "cell_type": "code",
   "execution_count": null,
   "metadata": {},
   "outputs": [],
   "source": [
    "model.gen_spat_kernels()"
   ]
  },
  {
   "cell_type": "markdown",
   "metadata": {},
   "source": [
    "Generate video data"
   ]
  },
  {
   "cell_type": "code",
   "execution_count": null,
   "metadata": {},
   "outputs": [],
   "source": [
    "model.gen_data(p)"
   ]
  },
  {
   "cell_type": "markdown",
   "metadata": {},
   "source": [
    "Final video"
   ]
  },
  {
   "cell_type": "code",
   "execution_count": null,
   "metadata": {},
   "outputs": [],
   "source": [
    "%%output holomap='scrubber'\n",
    "subt = 10 # downsampling\n",
    "startT = 0\n",
    "endT = model.F.shape[1]\n",
    "frames = {f: hv.Image(model.video[int(f-subt/2):int(f+subt/2),:,:].mean(axis=0)) for f in np.arange(startT+subt/2,endT,subt)}\n",
    "hv.HoloMap(frames)"
   ]
  }
 ],
 "metadata": {
  "kernelspec": {
   "display_name": "Python 3",
   "language": "python",
   "name": "python3"
  },
  "language_info": {
   "codemirror_mode": {
    "name": "ipython",
    "version": 3
   },
   "file_extension": ".py",
   "mimetype": "text/x-python",
   "name": "python",
   "nbconvert_exporter": "python",
   "pygments_lexer": "ipython3",
   "version": "3.6.7"
  }
 },
 "nbformat": 4,
 "nbformat_minor": 2
}
